{
  "nbformat": 4,
  "nbformat_minor": 0,
  "metadata": {
    "colab": {
      "name": "cycling-data.ipynb",
      "provenance": [],
      "collapsed_sections": [],
      "toc_visible": true
    },
    "kernelspec": {
      "name": "python3",
      "display_name": "Python 3"
    },
    "language_info": {
      "name": "python"
    }
  },
  "cells": [
    {
      "cell_type": "markdown",
      "metadata": {
        "id": "HZy9RHdqukP3"
      },
      "source": [
        "## Imports"
      ]
    },
    {
      "cell_type": "code",
      "metadata": {
        "execution": {
          "iopub.execute_input": "2021-06-19T02:12:01.722334Z",
          "iopub.status.busy": "2021-06-19T02:12:01.721620Z",
          "iopub.status.idle": "2021-06-19T02:12:02.459097Z",
          "shell.execute_reply": "2021-06-19T02:12:02.459540Z"
        },
        "id": "1rRo8oNqZ-Rj"
      },
      "source": [
        "import matplotlib.pyplot as plt\n",
        "import numpy as np\n",
        "import pandas as pd\n",
        "from scipy import stats\n",
        "import seaborn as sns\n",
        "\n",
        "import tensorflow as tf\n",
        "from tensorflow import keras\n",
        "from tensorflow.keras import layers\n",
        "from tensorflow.keras.layers.experimental import preprocessing"
      ],
      "execution_count": 1,
      "outputs": []
    },
    {
      "cell_type": "markdown",
      "metadata": {
        "id": "S8k0BWlWejDd"
      },
      "source": [
        "## Settings"
      ]
    },
    {
      "cell_type": "code",
      "metadata": {
        "id": "IcSpNI0vJX7E"
      },
      "source": [
        "# suppress scientific notation for floats\n",
        "pd.set_option('display.float_format', lambda x: '%.3f' % x)\n",
        "np.set_printoptions(suppress=True, formatter={'float_kind': lambda x: '%.3f' % x})"
      ],
      "execution_count": 2,
      "outputs": []
    },
    {
      "cell_type": "markdown",
      "metadata": {
        "id": "DA6kBasCuoEM"
      },
      "source": [
        "## Data Preparation"
      ]
    },
    {
      "cell_type": "code",
      "metadata": {
        "id": "afeWLBH891Of"
      },
      "source": [
        "# we want to predict values for Hm\n",
        "target = 'Hm'\n",
        "# read csv file into pandas dataframe\n",
        "dataset = pd.read_csv('https://raw.githubusercontent.com/timebertt/ml-cycling-data/master/jupyter/myrides_01_Dataset_2.csv',\n",
        "                          na_values='?', comment='\\t',\n",
        "                          sep=';', skipinitialspace=True, decimal=',')"
      ],
      "execution_count": 3,
      "outputs": []
    },
    {
      "cell_type": "code",
      "metadata": {
        "colab": {
          "base_uri": "https://localhost:8080/",
          "height": 326
        },
        "id": "fmB0sxttfVvG",
        "outputId": "e7dfdb91-008f-411e-9f0e-8d809aa4e0b0"
      },
      "source": [
        "# have a first look at the data\n",
        "display(dataset.head())\n",
        "# display number of rows and columns\n",
        "print(\"original shape: {}\".format(dataset.shape))"
      ],
      "execution_count": 4,
      "outputs": [
        {
          "output_type": "display_data",
          "data": {
            "text/html": [
              "<div>\n",
              "<style scoped>\n",
              "    .dataframe tbody tr th:only-of-type {\n",
              "        vertical-align: middle;\n",
              "    }\n",
              "\n",
              "    .dataframe tbody tr th {\n",
              "        vertical-align: top;\n",
              "    }\n",
              "\n",
              "    .dataframe thead th {\n",
              "        text-align: right;\n",
              "    }\n",
              "</style>\n",
              "<table border=\"1\" class=\"dataframe\">\n",
              "  <thead>\n",
              "    <tr style=\"text-align: right;\">\n",
              "      <th></th>\n",
              "      <th>HR</th>\n",
              "      <th>Hm</th>\n",
              "      <th>km</th>\n",
              "      <th>maxHR</th>\n",
              "      <th>maxHm</th>\n",
              "      <th>max_speed</th>\n",
              "      <th>minHm</th>\n",
              "      <th>position_lat_max</th>\n",
              "      <th>position_lat_min</th>\n",
              "      <th>position_long_max</th>\n",
              "      <th>position_long_min</th>\n",
              "      <th>speed</th>\n",
              "      <th>bike</th>\n",
              "      <th>type</th>\n",
              "      <th>date</th>\n",
              "      <th>endtime</th>\n",
              "      <th>starttime</th>\n",
              "      <th>rider_weight</th>\n",
              "      <th>rider_height</th>\n",
              "      <th>ride_type</th>\n",
              "      <th>duration</th>\n",
              "    </tr>\n",
              "  </thead>\n",
              "  <tbody>\n",
              "    <tr>\n",
              "      <th>0</th>\n",
              "      <td>nan</td>\n",
              "      <td>566.600</td>\n",
              "      <td>36.148</td>\n",
              "      <td>nan</td>\n",
              "      <td>528.600</td>\n",
              "      <td>53.878</td>\n",
              "      <td>289.600</td>\n",
              "      <td>48.779</td>\n",
              "      <td>48.709</td>\n",
              "      <td>9.572</td>\n",
              "      <td>9.470</td>\n",
              "      <td>19.632</td>\n",
              "      <td>Rose PRO</td>\n",
              "      <td>Rennrad</td>\n",
              "      <td>03.01.20</td>\n",
              "      <td>16:15:33</td>\n",
              "      <td>14:17:03</td>\n",
              "      <td>76</td>\n",
              "      <td>183</td>\n",
              "      <td>Pendeln</td>\n",
              "      <td>01:58:30</td>\n",
              "    </tr>\n",
              "    <tr>\n",
              "      <th>1</th>\n",
              "      <td>nan</td>\n",
              "      <td>707.600</td>\n",
              "      <td>22.785</td>\n",
              "      <td>nan</td>\n",
              "      <td>484.400</td>\n",
              "      <td>55.930</td>\n",
              "      <td>313.000</td>\n",
              "      <td>48.756</td>\n",
              "      <td>48.716</td>\n",
              "      <td>9.520</td>\n",
              "      <td>9.506</td>\n",
              "      <td>25.750</td>\n",
              "      <td>Rose PRO</td>\n",
              "      <td>Rennrad</td>\n",
              "      <td>06.10.18</td>\n",
              "      <td>14:00:01</td>\n",
              "      <td>12:50:55</td>\n",
              "      <td>73</td>\n",
              "      <td>183</td>\n",
              "      <td>Training</td>\n",
              "      <td>01:09:06</td>\n",
              "    </tr>\n",
              "    <tr>\n",
              "      <th>2</th>\n",
              "      <td>nan</td>\n",
              "      <td>191.600</td>\n",
              "      <td>35.779</td>\n",
              "      <td>nan</td>\n",
              "      <td>323.200</td>\n",
              "      <td>39.535</td>\n",
              "      <td>237.600</td>\n",
              "      <td>48.798</td>\n",
              "      <td>48.704</td>\n",
              "      <td>9.517</td>\n",
              "      <td>9.171</td>\n",
              "      <td>21.016</td>\n",
              "      <td>Stevens Elite</td>\n",
              "      <td>Trecking</td>\n",
              "      <td>27.08.19</td>\n",
              "      <td>19:52:13</td>\n",
              "      <td>18:10:02</td>\n",
              "      <td>73</td>\n",
              "      <td>183</td>\n",
              "      <td>Pendeln</td>\n",
              "      <td>01:42:11</td>\n",
              "    </tr>\n",
              "    <tr>\n",
              "      <th>3</th>\n",
              "      <td>nan</td>\n",
              "      <td>234.000</td>\n",
              "      <td>35.259</td>\n",
              "      <td>nan</td>\n",
              "      <td>347.600</td>\n",
              "      <td>39.132</td>\n",
              "      <td>246.800</td>\n",
              "      <td>48.798</td>\n",
              "      <td>48.704</td>\n",
              "      <td>9.517</td>\n",
              "      <td>9.170</td>\n",
              "      <td>22.139</td>\n",
              "      <td>Stevens Elite</td>\n",
              "      <td>Trecking</td>\n",
              "      <td>04.04.18</td>\n",
              "      <td>19:27:20</td>\n",
              "      <td>17:51:38</td>\n",
              "      <td>74</td>\n",
              "      <td>183</td>\n",
              "      <td>Pendeln</td>\n",
              "      <td>01:35:42</td>\n",
              "    </tr>\n",
              "    <tr>\n",
              "      <th>4</th>\n",
              "      <td>nan</td>\n",
              "      <td>447.800</td>\n",
              "      <td>22.034</td>\n",
              "      <td>nan</td>\n",
              "      <td>465.000</td>\n",
              "      <td>57.676</td>\n",
              "      <td>281.800</td>\n",
              "      <td>48.766</td>\n",
              "      <td>48.717</td>\n",
              "      <td>9.520</td>\n",
              "      <td>9.491</td>\n",
              "      <td>26.450</td>\n",
              "      <td>Rose PRO</td>\n",
              "      <td>Rennrad</td>\n",
              "      <td>20.09.17</td>\n",
              "      <td>16:47:32</td>\n",
              "      <td>15:51:00</td>\n",
              "      <td>73</td>\n",
              "      <td>183</td>\n",
              "      <td>Training</td>\n",
              "      <td>00:56:32</td>\n",
              "    </tr>\n",
              "  </tbody>\n",
              "</table>\n",
              "</div>"
            ],
            "text/plain": [
              "   HR      Hm     km  maxHR  ...  rider_weight  rider_height  ride_type  duration\n",
              "0 nan 566.600 36.148    nan  ...            76           183    Pendeln  01:58:30\n",
              "1 nan 707.600 22.785    nan  ...            73           183   Training  01:09:06\n",
              "2 nan 191.600 35.779    nan  ...            73           183    Pendeln  01:42:11\n",
              "3 nan 234.000 35.259    nan  ...            74           183    Pendeln  01:35:42\n",
              "4 nan 447.800 22.034    nan  ...            73           183   Training  00:56:32\n",
              "\n",
              "[5 rows x 21 columns]"
            ]
          },
          "metadata": {}
        },
        {
          "output_type": "stream",
          "name": "stdout",
          "text": [
            "original shape: (564, 21)\n"
          ]
        }
      ]
    },
    {
      "cell_type": "markdown",
      "metadata": {
        "id": "Ol5zZgTDfpxL"
      },
      "source": [
        "### Drop columns with missing values"
      ]
    },
    {
      "cell_type": "code",
      "metadata": {
        "colab": {
          "base_uri": "https://localhost:8080/"
        },
        "id": "9Ru4W6dHErK9",
        "outputId": "00db669e-1ae0-4e66-9d48-0ef52b85a0a1"
      },
      "source": [
        "# identify number of missing values for each column\n",
        "isna = dataset.isna().sum()\n",
        "isna"
      ],
      "execution_count": 5,
      "outputs": [
        {
          "output_type": "execute_result",
          "data": {
            "text/plain": [
              "HR                   522\n",
              "Hm                     0\n",
              "km                     0\n",
              "maxHR                522\n",
              "maxHm                  0\n",
              "max_speed              0\n",
              "minHm                  0\n",
              "position_lat_max       0\n",
              "position_lat_min       0\n",
              "position_long_max      0\n",
              "position_long_min      0\n",
              "speed                  0\n",
              "bike                   0\n",
              "type                   0\n",
              "date                   0\n",
              "endtime                0\n",
              "starttime              0\n",
              "rider_weight           0\n",
              "rider_height           0\n",
              "ride_type              0\n",
              "duration               0\n",
              "dtype: int64"
            ]
          },
          "metadata": {},
          "execution_count": 5
        }
      ]
    },
    {
      "cell_type": "code",
      "metadata": {
        "colab": {
          "base_uri": "https://localhost:8080/"
        },
        "id": "RZmG8GuIs0q_",
        "outputId": "de96bc41-8fc8-4340-d91e-52c6ba805314"
      },
      "source": [
        "# drop columns that have more than 10% missing values\n",
        "for column, count in isna.items():\n",
        "  if count < len(dataset) * 0.1:\n",
        "    continue\n",
        "\n",
        "  print(\"dropping {}, as {:.2f}% of rows have a missing value\".format(column, count / len(dataset) * 100))\n",
        "  dataset.pop(column)\n",
        "\n",
        "print(\"new shape: {}\".format(dataset.shape))"
      ],
      "execution_count": 6,
      "outputs": [
        {
          "output_type": "stream",
          "name": "stdout",
          "text": [
            "dropping HR, as 92.55% of rows have a missing value\n",
            "dropping maxHR, as 92.55% of rows have a missing value\n",
            "new shape: (564, 19)\n"
          ]
        }
      ]
    },
    {
      "cell_type": "markdown",
      "metadata": {
        "id": "dAN-g_qRgPZD"
      },
      "source": [
        "### Convert date and time values"
      ]
    },
    {
      "cell_type": "code",
      "metadata": {
        "id": "adgdHbC4cdzG",
        "colab": {
          "base_uri": "https://localhost:8080/",
          "height": 204
        },
        "outputId": "97980bba-1c2f-4a2d-aece-15a91efe3d5b"
      },
      "source": [
        "# convert date from string to seconds since the epoch\n",
        "dataset['date'] = (pd.to_datetime(dataset['date']) - pd.Timestamp(\"1970-01-01\")).dt.total_seconds()\n",
        "# convert duration from string to seconds\n",
        "dataset['duration'] = pd.to_timedelta(dataset['duration']).dt.total_seconds()\n",
        "# convert starttime from string to seconds (from midnight)\n",
        "dataset['starttime'] = pd.to_timedelta(dataset['starttime']).dt.total_seconds()\n",
        "# convert endtime from string to seconds (from midnight)\n",
        "dataset['endtime'] = pd.to_timedelta(dataset['endtime']).dt.total_seconds()\n",
        "\n",
        "# inspect the converted columns\n",
        "with pd.option_context('display.float_format', lambda x: \"%.0f\" % x):\n",
        "  display(dataset[[\"date\",\"duration\",\"starttime\",\"endtime\"]].head())"
      ],
      "execution_count": 7,
      "outputs": [
        {
          "output_type": "display_data",
          "data": {
            "text/html": [
              "<div>\n",
              "<style scoped>\n",
              "    .dataframe tbody tr th:only-of-type {\n",
              "        vertical-align: middle;\n",
              "    }\n",
              "\n",
              "    .dataframe tbody tr th {\n",
              "        vertical-align: top;\n",
              "    }\n",
              "\n",
              "    .dataframe thead th {\n",
              "        text-align: right;\n",
              "    }\n",
              "</style>\n",
              "<table border=\"1\" class=\"dataframe\">\n",
              "  <thead>\n",
              "    <tr style=\"text-align: right;\">\n",
              "      <th></th>\n",
              "      <th>date</th>\n",
              "      <th>duration</th>\n",
              "      <th>starttime</th>\n",
              "      <th>endtime</th>\n",
              "    </tr>\n",
              "  </thead>\n",
              "  <tbody>\n",
              "    <tr>\n",
              "      <th>0</th>\n",
              "      <td>1583020800</td>\n",
              "      <td>7110</td>\n",
              "      <td>51423</td>\n",
              "      <td>58533</td>\n",
              "    </tr>\n",
              "    <tr>\n",
              "      <th>1</th>\n",
              "      <td>1528588800</td>\n",
              "      <td>4146</td>\n",
              "      <td>46255</td>\n",
              "      <td>50401</td>\n",
              "    </tr>\n",
              "    <tr>\n",
              "      <th>2</th>\n",
              "      <td>1566864000</td>\n",
              "      <td>6131</td>\n",
              "      <td>65402</td>\n",
              "      <td>71533</td>\n",
              "    </tr>\n",
              "    <tr>\n",
              "      <th>3</th>\n",
              "      <td>1522800000</td>\n",
              "      <td>5742</td>\n",
              "      <td>64298</td>\n",
              "      <td>70040</td>\n",
              "    </tr>\n",
              "    <tr>\n",
              "      <th>4</th>\n",
              "      <td>1505865600</td>\n",
              "      <td>3392</td>\n",
              "      <td>57060</td>\n",
              "      <td>60452</td>\n",
              "    </tr>\n",
              "  </tbody>\n",
              "</table>\n",
              "</div>"
            ],
            "text/plain": [
              "        date  duration  starttime  endtime\n",
              "0 1583020800      7110      51423    58533\n",
              "1 1528588800      4146      46255    50401\n",
              "2 1566864000      6131      65402    71533\n",
              "3 1522800000      5742      64298    70040\n",
              "4 1505865600      3392      57060    60452"
            ]
          },
          "metadata": {}
        }
      ]
    },
    {
      "cell_type": "markdown",
      "metadata": {
        "id": "1lojDw3PgW64"
      },
      "source": [
        "### Convert categorical variables into indicator variables"
      ]
    },
    {
      "cell_type": "code",
      "metadata": {
        "id": "_WkKSrq_pflP",
        "colab": {
          "base_uri": "https://localhost:8080/",
          "height": 275
        },
        "outputId": "2bba2c4e-77d9-4f4c-d15f-c0edc53dc0d0"
      },
      "source": [
        "# convert categorical variables to numerical values to have a uniform input for the model\n",
        "dataset = pd.get_dummies(dataset, columns=['bike'], prefix='bike', prefix_sep='.')\n",
        "dataset = pd.get_dummies(dataset, columns=['type'], prefix='type', prefix_sep='.')\n",
        "dataset = pd.get_dummies(dataset, columns=['ride_type'], prefix='ride_type', prefix_sep='.')\n",
        "\n",
        "# inspect the resulting indicator columns\n",
        "display(dataset[[col for col in dataset if '.' in col]].head())\n",
        "\n",
        "print(\"new shape: {}\".format(dataset.shape))"
      ],
      "execution_count": 8,
      "outputs": [
        {
          "output_type": "display_data",
          "data": {
            "text/html": [
              "<div>\n",
              "<style scoped>\n",
              "    .dataframe tbody tr th:only-of-type {\n",
              "        vertical-align: middle;\n",
              "    }\n",
              "\n",
              "    .dataframe tbody tr th {\n",
              "        vertical-align: top;\n",
              "    }\n",
              "\n",
              "    .dataframe thead th {\n",
              "        text-align: right;\n",
              "    }\n",
              "</style>\n",
              "<table border=\"1\" class=\"dataframe\">\n",
              "  <thead>\n",
              "    <tr style=\"text-align: right;\">\n",
              "      <th></th>\n",
              "      <th>bike.CUBE AIM RACE</th>\n",
              "      <th>bike.Carver Distaco 6000</th>\n",
              "      <th>bike.Giant</th>\n",
              "      <th>bike.Mietrad - GHOST</th>\n",
              "      <th>bike.Rose PRO</th>\n",
              "      <th>bike.Stevens 98</th>\n",
              "      <th>bike.Stevens Elite</th>\n",
              "      <th>type.MTB</th>\n",
              "      <th>type.Rennrad</th>\n",
              "      <th>type.Trecking</th>\n",
              "      <th>ride_type.Pendeln</th>\n",
              "      <th>ride_type.Race</th>\n",
              "      <th>ride_type.Training</th>\n",
              "    </tr>\n",
              "  </thead>\n",
              "  <tbody>\n",
              "    <tr>\n",
              "      <th>0</th>\n",
              "      <td>0</td>\n",
              "      <td>0</td>\n",
              "      <td>0</td>\n",
              "      <td>0</td>\n",
              "      <td>1</td>\n",
              "      <td>0</td>\n",
              "      <td>0</td>\n",
              "      <td>0</td>\n",
              "      <td>1</td>\n",
              "      <td>0</td>\n",
              "      <td>1</td>\n",
              "      <td>0</td>\n",
              "      <td>0</td>\n",
              "    </tr>\n",
              "    <tr>\n",
              "      <th>1</th>\n",
              "      <td>0</td>\n",
              "      <td>0</td>\n",
              "      <td>0</td>\n",
              "      <td>0</td>\n",
              "      <td>1</td>\n",
              "      <td>0</td>\n",
              "      <td>0</td>\n",
              "      <td>0</td>\n",
              "      <td>1</td>\n",
              "      <td>0</td>\n",
              "      <td>0</td>\n",
              "      <td>0</td>\n",
              "      <td>1</td>\n",
              "    </tr>\n",
              "    <tr>\n",
              "      <th>2</th>\n",
              "      <td>0</td>\n",
              "      <td>0</td>\n",
              "      <td>0</td>\n",
              "      <td>0</td>\n",
              "      <td>0</td>\n",
              "      <td>0</td>\n",
              "      <td>1</td>\n",
              "      <td>0</td>\n",
              "      <td>0</td>\n",
              "      <td>1</td>\n",
              "      <td>1</td>\n",
              "      <td>0</td>\n",
              "      <td>0</td>\n",
              "    </tr>\n",
              "    <tr>\n",
              "      <th>3</th>\n",
              "      <td>0</td>\n",
              "      <td>0</td>\n",
              "      <td>0</td>\n",
              "      <td>0</td>\n",
              "      <td>0</td>\n",
              "      <td>0</td>\n",
              "      <td>1</td>\n",
              "      <td>0</td>\n",
              "      <td>0</td>\n",
              "      <td>1</td>\n",
              "      <td>1</td>\n",
              "      <td>0</td>\n",
              "      <td>0</td>\n",
              "    </tr>\n",
              "    <tr>\n",
              "      <th>4</th>\n",
              "      <td>0</td>\n",
              "      <td>0</td>\n",
              "      <td>0</td>\n",
              "      <td>0</td>\n",
              "      <td>1</td>\n",
              "      <td>0</td>\n",
              "      <td>0</td>\n",
              "      <td>0</td>\n",
              "      <td>1</td>\n",
              "      <td>0</td>\n",
              "      <td>0</td>\n",
              "      <td>0</td>\n",
              "      <td>1</td>\n",
              "    </tr>\n",
              "  </tbody>\n",
              "</table>\n",
              "</div>"
            ],
            "text/plain": [
              "   bike.CUBE AIM RACE  ...  ride_type.Training\n",
              "0                   0  ...                   0\n",
              "1                   0  ...                   1\n",
              "2                   0  ...                   0\n",
              "3                   0  ...                   0\n",
              "4                   0  ...                   1\n",
              "\n",
              "[5 rows x 13 columns]"
            ]
          },
          "metadata": {}
        },
        {
          "output_type": "stream",
          "name": "stdout",
          "text": [
            "new shape: (564, 29)\n"
          ]
        }
      ]
    },
    {
      "cell_type": "markdown",
      "metadata": {
        "id": "Cuym4yvk76vU"
      },
      "source": [
        "### Split the data into train and test"
      ]
    },
    {
      "cell_type": "code",
      "metadata": {
        "execution": {
          "iopub.execute_input": "2021-06-19T02:12:04.419796Z",
          "iopub.status.busy": "2021-06-19T02:12:04.419237Z",
          "iopub.status.idle": "2021-06-19T02:12:04.421475Z",
          "shell.execute_reply": "2021-06-19T02:12:04.421085Z"
        },
        "id": "qn-IGhUE7_1H"
      },
      "source": [
        "# split the dataset into a training set and a test set (use 80% as training data, set random_state for reproducibility)\n",
        "train_dataset = dataset.sample(frac=0.8, random_state=1)\n",
        "test_dataset = dataset.drop(train_dataset.index)"
      ],
      "execution_count": 9,
      "outputs": []
    },
    {
      "cell_type": "markdown",
      "metadata": {
        "id": "6LkUttrkVFna"
      },
      "source": [
        "### Remove outliers from dataset"
      ]
    },
    {
      "cell_type": "code",
      "metadata": {
        "colab": {
          "base_uri": "https://localhost:8080/",
          "height": 173
        },
        "id": "MlHzMyUQZKIN",
        "outputId": "cb153a8b-dae6-42ee-d1bf-59012be7fed9"
      },
      "source": [
        "# display statistics: comparing min/max value with 5th/95th percentile reveals outliers in some columns, probably erroneous values (e.g. 5508.800 Hm)\n",
        "train_dataset_stats = train_dataset.describe(percentiles=[.05, .95])\n",
        "train_dataset_stats[['Hm','duration','minHm','km']].transpose()"
      ],
      "execution_count": 10,
      "outputs": [
        {
          "output_type": "execute_result",
          "data": {
            "text/html": [
              "<div>\n",
              "<style scoped>\n",
              "    .dataframe tbody tr th:only-of-type {\n",
              "        vertical-align: middle;\n",
              "    }\n",
              "\n",
              "    .dataframe tbody tr th {\n",
              "        vertical-align: top;\n",
              "    }\n",
              "\n",
              "    .dataframe thead th {\n",
              "        text-align: right;\n",
              "    }\n",
              "</style>\n",
              "<table border=\"1\" class=\"dataframe\">\n",
              "  <thead>\n",
              "    <tr style=\"text-align: right;\">\n",
              "      <th></th>\n",
              "      <th>count</th>\n",
              "      <th>mean</th>\n",
              "      <th>std</th>\n",
              "      <th>min</th>\n",
              "      <th>5%</th>\n",
              "      <th>50%</th>\n",
              "      <th>95%</th>\n",
              "      <th>max</th>\n",
              "    </tr>\n",
              "  </thead>\n",
              "  <tbody>\n",
              "    <tr>\n",
              "      <th>Hm</th>\n",
              "      <td>451.000</td>\n",
              "      <td>509.738</td>\n",
              "      <td>622.016</td>\n",
              "      <td>28.400</td>\n",
              "      <td>150.000</td>\n",
              "      <td>283.400</td>\n",
              "      <td>1637.900</td>\n",
              "      <td>5508.800</td>\n",
              "    </tr>\n",
              "    <tr>\n",
              "      <th>duration</th>\n",
              "      <td>451.000</td>\n",
              "      <td>7314.887</td>\n",
              "      <td>6343.087</td>\n",
              "      <td>616.000</td>\n",
              "      <td>2700.000</td>\n",
              "      <td>5586.000</td>\n",
              "      <td>18007.000</td>\n",
              "      <td>46624.000</td>\n",
              "    </tr>\n",
              "    <tr>\n",
              "      <th>minHm</th>\n",
              "      <td>451.000</td>\n",
              "      <td>265.398</td>\n",
              "      <td>148.545</td>\n",
              "      <td>-60.600</td>\n",
              "      <td>160.000</td>\n",
              "      <td>253.400</td>\n",
              "      <td>346.100</td>\n",
              "      <td>1533.800</td>\n",
              "    </tr>\n",
              "    <tr>\n",
              "      <th>km</th>\n",
              "      <td>451.000</td>\n",
              "      <td>42.577</td>\n",
              "      <td>31.792</td>\n",
              "      <td>2.836</td>\n",
              "      <td>11.817</td>\n",
              "      <td>35.081</td>\n",
              "      <td>102.090</td>\n",
              "      <td>268.309</td>\n",
              "    </tr>\n",
              "  </tbody>\n",
              "</table>\n",
              "</div>"
            ],
            "text/plain": [
              "           count     mean      std  ...      50%       95%       max\n",
              "Hm       451.000  509.738  622.016  ...  283.400  1637.900  5508.800\n",
              "duration 451.000 7314.887 6343.087  ... 5586.000 18007.000 46624.000\n",
              "minHm    451.000  265.398  148.545  ...  253.400   346.100  1533.800\n",
              "km       451.000   42.577   31.792  ...   35.081   102.090   268.309\n",
              "\n",
              "[4 rows x 8 columns]"
            ]
          },
          "metadata": {},
          "execution_count": 10
        }
      ]
    },
    {
      "cell_type": "code",
      "metadata": {
        "id": "oh3u3nMLVEf3",
        "colab": {
          "base_uri": "https://localhost:8080/"
        },
        "outputId": "a5292fb7-da60-4a64-8f01-572383cf3a8a"
      },
      "source": [
        "print(\"shape: {}\".format(train_dataset.shape))\n",
        "\n",
        "for col in train_dataset.columns:\n",
        " # if standard deviation is 0, we can't calculate z-score (division by zero)\n",
        "  if train_dataset_stats[col]['std'] <= 0:\n",
        "    continue\n",
        "\n",
        "  # ignore indicator variables (outlier detection not useful there)\n",
        "  if '.' in col:\n",
        "    continue\n",
        "\n",
        "  # remove all rows having values outside (m-4std,m+4std) of col\n",
        "  train_dataset = train_dataset[(np.abs(stats.zscore(train_dataset[col])) < 4)]\n",
        "  \n",
        "  print(\"new shape after dropping outliers for {}: {}\".format(col, train_dataset.shape))"
      ],
      "execution_count": 11,
      "outputs": [
        {
          "output_type": "stream",
          "name": "stdout",
          "text": [
            "shape: (451, 29)\n",
            "new shape after dropping outliers for Hm: (446, 29)\n",
            "new shape after dropping outliers for km: (443, 29)\n",
            "new shape after dropping outliers for maxHm: (435, 29)\n",
            "new shape after dropping outliers for max_speed: (435, 29)\n",
            "new shape after dropping outliers for minHm: (429, 29)\n",
            "new shape after dropping outliers for position_lat_max: (417, 29)\n",
            "new shape after dropping outliers for position_lat_min: (413, 29)\n",
            "new shape after dropping outliers for position_long_max: (404, 29)\n",
            "new shape after dropping outliers for position_long_min: (404, 29)\n",
            "new shape after dropping outliers for speed: (404, 29)\n",
            "new shape after dropping outliers for date: (404, 29)\n",
            "new shape after dropping outliers for endtime: (404, 29)\n",
            "new shape after dropping outliers for starttime: (404, 29)\n",
            "new shape after dropping outliers for rider_weight: (404, 29)\n",
            "new shape after dropping outliers for duration: (398, 29)\n"
          ]
        }
      ]
    },
    {
      "cell_type": "code",
      "metadata": {
        "colab": {
          "base_uri": "https://localhost:8080/",
          "height": 173
        },
        "id": "fbtxP6gCqipZ",
        "outputId": "852b745e-b230-4c0e-e160-494ebcdefe73"
      },
      "source": [
        "# new stats after dropping outliers: min/max values are much closer to 5th/95th percentile\n",
        "train_dataset_stats = train_dataset.describe(percentiles=[.05, .95])\n",
        "train_dataset_stats[['Hm','duration','minHm','km']].transpose()"
      ],
      "execution_count": 12,
      "outputs": [
        {
          "output_type": "execute_result",
          "data": {
            "text/html": [
              "<div>\n",
              "<style scoped>\n",
              "    .dataframe tbody tr th:only-of-type {\n",
              "        vertical-align: middle;\n",
              "    }\n",
              "\n",
              "    .dataframe tbody tr th {\n",
              "        vertical-align: top;\n",
              "    }\n",
              "\n",
              "    .dataframe thead th {\n",
              "        text-align: right;\n",
              "    }\n",
              "</style>\n",
              "<table border=\"1\" class=\"dataframe\">\n",
              "  <thead>\n",
              "    <tr style=\"text-align: right;\">\n",
              "      <th></th>\n",
              "      <th>count</th>\n",
              "      <th>mean</th>\n",
              "      <th>std</th>\n",
              "      <th>min</th>\n",
              "      <th>5%</th>\n",
              "      <th>50%</th>\n",
              "      <th>95%</th>\n",
              "      <th>max</th>\n",
              "    </tr>\n",
              "  </thead>\n",
              "  <tbody>\n",
              "    <tr>\n",
              "      <th>Hm</th>\n",
              "      <td>398.000</td>\n",
              "      <td>390.419</td>\n",
              "      <td>305.852</td>\n",
              "      <td>30.600</td>\n",
              "      <td>150.370</td>\n",
              "      <td>255.800</td>\n",
              "      <td>1008.540</td>\n",
              "      <td>1918.800</td>\n",
              "    </tr>\n",
              "    <tr>\n",
              "      <th>duration</th>\n",
              "      <td>398.000</td>\n",
              "      <td>5864.528</td>\n",
              "      <td>2719.351</td>\n",
              "      <td>616.000</td>\n",
              "      <td>2721.700</td>\n",
              "      <td>5483.000</td>\n",
              "      <td>11221.350</td>\n",
              "      <td>20461.000</td>\n",
              "    </tr>\n",
              "    <tr>\n",
              "      <th>minHm</th>\n",
              "      <td>398.000</td>\n",
              "      <td>251.285</td>\n",
              "      <td>35.884</td>\n",
              "      <td>-15.600</td>\n",
              "      <td>201.960</td>\n",
              "      <td>253.200</td>\n",
              "      <td>302.960</td>\n",
              "      <td>374.000</td>\n",
              "    </tr>\n",
              "    <tr>\n",
              "      <th>km</th>\n",
              "      <td>398.000</td>\n",
              "      <td>36.435</td>\n",
              "      <td>17.801</td>\n",
              "      <td>3.814</td>\n",
              "      <td>11.987</td>\n",
              "      <td>35.011</td>\n",
              "      <td>72.490</td>\n",
              "      <td>130.602</td>\n",
              "    </tr>\n",
              "  </tbody>\n",
              "</table>\n",
              "</div>"
            ],
            "text/plain": [
              "           count     mean      std  ...      50%       95%       max\n",
              "Hm       398.000  390.419  305.852  ...  255.800  1008.540  1918.800\n",
              "duration 398.000 5864.528 2719.351  ... 5483.000 11221.350 20461.000\n",
              "minHm    398.000  251.285   35.884  ...  253.200   302.960   374.000\n",
              "km       398.000   36.435   17.801  ...   35.011    72.490   130.602\n",
              "\n",
              "[4 rows x 8 columns]"
            ]
          },
          "metadata": {},
          "execution_count": 12
        }
      ]
    },
    {
      "cell_type": "markdown",
      "metadata": {
        "id": "Db7Auq1yXUvh"
      },
      "source": [
        "### Split features from labels"
      ]
    },
    {
      "cell_type": "code",
      "metadata": {
        "execution": {
          "iopub.execute_input": "2021-06-19T02:12:06.559830Z",
          "iopub.status.busy": "2021-06-19T02:12:06.559124Z",
          "iopub.status.idle": "2021-06-19T02:12:06.561956Z",
          "shell.execute_reply": "2021-06-19T02:12:06.561564Z"
        },
        "id": "t2sluJdCW7jN"
      },
      "source": [
        "# Separate the target value as the label from the features \n",
        "train_features = train_dataset.copy()\n",
        "test_features = test_dataset.copy()\n",
        "\n",
        "train_labels = train_features.pop(target)\n",
        "test_labels = test_features.pop(target)"
      ],
      "execution_count": 13,
      "outputs": []
    },
    {
      "cell_type": "markdown",
      "metadata": {
        "id": "rwl8sr6Yqf3Y"
      },
      "source": [
        "## Feature Selection"
      ]
    },
    {
      "cell_type": "code",
      "metadata": {
        "colab": {
          "base_uri": "https://localhost:8080/",
          "height": 596
        },
        "id": "ghHx2gXrqYfF",
        "outputId": "bb73aeef-5110-4c5f-ddbc-ed6fa4491361"
      },
      "source": [
        "def visualize_correlation(df):\n",
        "  plt.figure(figsize=(10, 10))\n",
        "  i = 0\n",
        "  for col, series in df.items():\n",
        "    if col == target:\n",
        "      continue\n",
        "\n",
        "    i = i+1\n",
        "    ax = plt.subplot(2, 2, i)\n",
        "    plt.scatter(series, df[target])\n",
        "    plt.xlabel(col)\n",
        "    plt.ylabel(target)\n",
        "    ax.axes.xaxis.set_ticklabels([])\n",
        "    ax.axes.yaxis.set_ticklabels([])\n",
        "\n",
        "# scatter plots reveal different degrees of correlations between Hm as target value and possible features \n",
        "# e.g.: maxHm and max_speed show a correlation with Hm, while starttime and rider_weight seem to have no correlation with Hm at all\n",
        "visualize_correlation(train_dataset[[target,'maxHm','max_speed','starttime','rider_weight']])"
      ],
      "execution_count": 14,
      "outputs": [
        {
          "output_type": "display_data",
          "data": {
            "image/png": "[encoded data removed]",
            "text/plain": [
              "<Figure size 720x720 with 4 Axes>"
            ]
          },
          "metadata": {
            "needs_background": "light"
          }
        }
      ]
    },
    {
      "cell_type": "code",
      "metadata": {
        "colab": {
          "base_uri": "https://localhost:8080/",
          "height": 331
        },
        "id": "Kqcf-m0ITZ2y",
        "outputId": "ddb3f5f0-45d6-47b7-c53c-1ded456b4e27"
      },
      "source": [
        "# use Pearson correlation coefficience to detect features with high relevance for label\n",
        "plt.figure(figsize=(25,3))\n",
        "cor = train_dataset.corr(method=\"pearson\")\n",
        "# use absolute value of the calculated correlation coefficients\n",
        "sns.heatmap(abs(cor.iloc[:1]), annot=True, cmap=plt.cm.Reds)\n",
        "plt.show()"
      ],
      "execution_count": 15,
      "outputs": [
        {
          "output_type": "display_data",
          "data": {
            "image/png": "[encoded data removed]",
            "text/plain": [
              "<Figure size 1800x216 with 2 Axes>"
            ]
          },
          "metadata": {
            "needs_background": "light"
          }
        }
      ]
    },
    {
      "cell_type": "code",
      "metadata": {
        "colab": {
          "base_uri": "https://localhost:8080/"
        },
        "id": "knhv3BxsUdJF",
        "outputId": "8f1777db-981d-4f93-f6bf-105bcca3e800"
      },
      "source": [
        "# correlation with output variable\n",
        "cor_target = abs(cor[target])\n",
        "# select features with correlation coefficience of at least 0.1\n",
        "relevant_features = cor_target[cor_target>0.1].drop(target)\n",
        "\n",
        "print(\"number of selected features: {}\".format(len(relevant_features)))\n",
        "print()\n",
        "print(relevant_features.sort_values(ascending=False))\n",
        "\n",
        "# keep selected feature columns in train set and test set\n",
        "train_features = train_features[relevant_features.index]\n",
        "test_features = test_features[relevant_features.index]"
      ],
      "execution_count": 16,
      "outputs": [
        {
          "output_type": "stream",
          "name": "stdout",
          "text": [
            "number of selected features: 18\n",
            "\n",
            "maxHm                0.820\n",
            "duration             0.788\n",
            "km                   0.786\n",
            "max_speed            0.696\n",
            "position_long_max    0.680\n",
            "position_lat_min     0.640\n",
            "bike.Rose PRO        0.623\n",
            "type.Rennrad         0.588\n",
            "ride_type.Pendeln    0.546\n",
            "ride_type.Training   0.546\n",
            "bike.Stevens Elite   0.540\n",
            "type.Trecking        0.540\n",
            "position_long_min    0.493\n",
            "speed                0.423\n",
            "position_lat_max     0.184\n",
            "minHm                0.165\n",
            "endtime              0.130\n",
            "date                 0.118\n",
            "Name: Hm, dtype: float64\n"
          ]
        }
      ]
    },
    {
      "cell_type": "markdown",
      "metadata": {
        "id": "aFJ6ISropeoo"
      },
      "source": [
        "## Normalization"
      ]
    },
    {
      "cell_type": "code",
      "metadata": {
        "execution": {
          "iopub.execute_input": "2021-06-19T02:12:06.593382Z",
          "iopub.status.busy": "2021-06-19T02:12:06.592850Z",
          "iopub.status.idle": "2021-06-19T02:12:06.598082Z",
          "shell.execute_reply": "2021-06-19T02:12:06.597607Z"
        },
        "id": "JlC5ooJrgjQF"
      },
      "source": [
        "# define normalization layer, will be used as first layer\n",
        "normalizer = preprocessing.Normalization(name=\"normalization\")\n",
        "# calculate mean and variance based on training data and store it in normalization layer\n",
        "normalizer.adapt(np.array(train_features))"
      ],
      "execution_count": 17,
      "outputs": []
    },
    {
      "cell_type": "code",
      "metadata": {
        "execution": {
          "iopub.execute_input": "2021-06-19T02:12:08.309201Z",
          "iopub.status.busy": "2021-06-19T02:12:08.308641Z",
          "iopub.status.idle": "2021-06-19T02:12:08.311492Z",
          "shell.execute_reply": "2021-06-19T02:12:08.311841Z"
        },
        "id": "GGn-ukwxSPtx",
        "colab": {
          "base_uri": "https://localhost:8080/"
        },
        "outputId": "5630982b-9da6-4e51-c08c-7f67e1ad1528"
      },
      "source": [
        "# take a look at calculated mean and variance values\n",
        "print(\"Mean: {}\".format(normalizer.mean.numpy()))\n",
        "print(\"Variance: {}\".format(normalizer.variance.numpy()))"
      ],
      "execution_count": 18,
      "outputs": [
        {
          "output_type": "stream",
          "name": "stdout",
          "text": [
            "Mean: [[36.435 415.943 45.038 251.285 48.780 48.697 9.550 9.324 23.446\n",
            "  1544765824.000 51768.082 5864.528 0.452 0.450 0.480 0.450 0.467 0.533]]\n",
            "Variance: [[316.084 11738.271 64.520 1284.403 0.001 0.001 0.004 0.023 10.568\n",
            "  1304776302133248.000 234089872.000 7376291.000 0.248 0.247 0.250 0.247\n",
            "  0.249 0.249]]\n"
          ]
        }
      ]
    },
    {
      "cell_type": "code",
      "metadata": {
        "execution": {
          "iopub.execute_input": "2021-06-19T02:12:08.316506Z",
          "iopub.status.busy": "2021-06-19T02:12:08.315968Z",
          "iopub.status.idle": "2021-06-19T02:12:08.320968Z",
          "shell.execute_reply": "2021-06-19T02:12:08.321297Z"
        },
        "id": "2l7zFL_XWIRu",
        "colab": {
          "base_uri": "https://localhost:8080/"
        },
        "outputId": "86de99ae-11ac-49e4-91c5-867b4bb104d5"
      },
      "source": [
        "# demonstrate normalization on first row\n",
        "first = np.array(train_features[:1])\n",
        "\n",
        "print('First row:', first[0])\n",
        "print()\n",
        "# basically calculates the z-score for each feature\n",
        "print('Normalized:', normalizer(first).numpy()[0])"
      ],
      "execution_count": 19,
      "outputs": [
        {
          "output_type": "stream",
          "name": "stdout",
          "text": [
            "First row: [65.108 517.600 56.902 287.200 48.793 48.708 9.743 9.515 27.227\n",
            " 1588809600.000 43228.000 9144.000 1.000 0.000 1.000 0.000 0.000 1.000]\n",
            "\n",
            "Normalized: [1.613 0.938 1.477 1.002 0.467 0.310 3.109 1.250 1.163 1.219 -0.558 1.207\n",
            " 1.101 -0.904 1.041 -0.904 -0.937 0.937]\n"
          ]
        }
      ]
    },
    {
      "cell_type": "markdown",
      "metadata": {
        "id": "Wh30TU6zu-x3"
      },
      "source": [
        "## Multi-Layer-Perceptron (Deep Neural Network)"
      ]
    },
    {
      "cell_type": "code",
      "metadata": {
        "id": "CVty5Si-8O_Y"
      },
      "source": [
        "# dict for storing models as well as training loss/metrics history for each trained model\n",
        "models = {}\n",
        "training_histories = {}"
      ],
      "execution_count": 20,
      "outputs": []
    },
    {
      "cell_type": "code",
      "metadata": {
        "id": "lPY01PxdvG8D"
      },
      "source": [
        "# prepare reusable func for defining and training network\n",
        "# for comparison of different configurations later on\n",
        "def compile_and_train_model(name=\"\", hidden_layers=None, loss=None):\n",
        "  # define a simple sequential model and add all our layers\n",
        "  model = keras.Sequential(name=name)\n",
        "  model.add(normalizer)\n",
        "  for l in hidden_layers:\n",
        "    model.add(l)\n",
        "  model.add(layers.Dense(1, name=\"output\"))\n",
        "\n",
        "  # decrease learning rate as training progresses for a more stable result and less overfitting\n",
        "  lr_schedule = keras.optimizers.schedules.ExponentialDecay(\n",
        "                    initial_learning_rate=5e-4, decay_steps=100000, decay_rate=0.96, staircase=True\n",
        "                )\n",
        "\n",
        "  # put everything together\n",
        "  model.compile(\n",
        "                loss=loss,\n",
        "                optimizer=tf.keras.optimizers.Adam(learning_rate=lr_schedule),\n",
        "                # metrics to record during training and evaluate with test data\n",
        "                metrics=[tf.losses.MeanAbsoluteError(),\n",
        "                        tf.losses.MeanAbsolutePercentageError(),\n",
        "                        tf.losses.MeanSquaredError(),\n",
        "                        tf.losses.MeanSquaredLogarithmicError()]\n",
        "                )\n",
        "\n",
        "  # train model and save loss/metrics history\n",
        "  print('training model {}'.format(name))\n",
        "  history = model.fit(\n",
        "    train_features, train_labels,\n",
        "    epochs=500,\n",
        "    verbose=0,\n",
        "    # 20% of training data is used for evaluating loss exclusively but not for training,\n",
        "    # i.e. to detect overfitting\n",
        "    validation_split=0.2)\n",
        "  \n",
        "  # save model and metrics for comparison\n",
        "  models[model.name] = model\n",
        "  training_histories[model.name] = history"
      ],
      "execution_count": 21,
      "outputs": []
    },
    {
      "cell_type": "code",
      "metadata": {
        "id": "VXKo5lbRxZDZ"
      },
      "source": [
        "# prepare function for plotting multiple loss histories next to each other\n",
        "def plot_loss_histories(hist):\n",
        "  plt.figure(figsize=(25, 5))\n",
        "\n",
        "  i = 0\n",
        "  for model_name, history in hist.items():\n",
        "    i = i+1\n",
        "    ax = plt.subplot(1, len(hist), i)\n",
        "    ax.set(title=f'{model_name} ({history.model.loss.name})')\n",
        "    plt.plot(history.history['loss'], label='loss')\n",
        "    plt.plot(history.history['val_loss'], label='val_loss')\n",
        "    # heuristically determine some fitting y axis range\n",
        "    plt.ylim([history.history['loss'][-1]*0.7, history.history['val_loss'][int(history.epoch[-1]*0.1)]])\n",
        "    plt.xlabel('Epoch')\n",
        "    plt.legend()\n",
        "    plt.grid(True)\n",
        "\n",
        "# prepare function for comparing the training results (metrics) in a table\n",
        "def compare_model_metrics(hist):\n",
        "  training_metrics = {}\n",
        "\n",
        "  for model_name, history in hist.items():\n",
        "    training_metrics[model_name] = pd.DataFrame(history.history).iloc[-1]\n",
        "\n",
        "  return pd.DataFrame(training_metrics)"
      ],
      "execution_count": 22,
      "outputs": []
    },
    {
      "cell_type": "markdown",
      "metadata": {
        "id": "uII9TiV36otw"
      },
      "source": [
        "### Compare different hidden layer sizes/widths"
      ]
    },
    {
      "cell_type": "code",
      "metadata": {
        "colab": {
          "base_uri": "https://localhost:8080/"
        },
        "id": "K8G3LmSKy9Tm",
        "outputId": "3b674812-66c3-4900-cba2-e4d4a573c3ce"
      },
      "source": [
        "# first model with a single but wide layer\n",
        "compile_and_train_model(\n",
        "    name=\"one_hidden_layer\",\n",
        "    hidden_layers=[\n",
        "      layers.Dense(64, activation=\"relu\", name=\"layer1\"),\n",
        "    ],\n",
        "    loss=tf.losses.MeanAbsoluteError()\n",
        ")"
      ],
      "execution_count": 23,
      "outputs": [
        {
          "output_type": "stream",
          "name": "stdout",
          "text": [
            "training model one_hidden_layer\n"
          ]
        }
      ]
    },
    {
      "cell_type": "code",
      "metadata": {
        "colab": {
          "base_uri": "https://localhost:8080/"
        },
        "id": "vzdTeOj3wPip",
        "outputId": "6d65615b-1f72-43d2-bc8d-a755eb512a9c"
      },
      "source": [
        "# get some short summary of the trained model\n",
        "models['one_hidden_layer'].summary()"
      ],
      "execution_count": 24,
      "outputs": [
        {
          "output_type": "stream",
          "name": "stdout",
          "text": [
            "Model: \"one_hidden_layer\"\n",
            "_________________________________________________________________\n",
            "Layer (type)                 Output Shape              Param #   \n",
            "=================================================================\n",
            "normalization (Normalization (None, 18)                37        \n",
            "_________________________________________________________________\n",
            "layer1 (Dense)               (None, 64)                1216      \n",
            "_________________________________________________________________\n",
            "output (Dense)               (None, 1)                 65        \n",
            "=================================================================\n",
            "Total params: 1,318\n",
            "Trainable params: 1,281\n",
            "Non-trainable params: 37\n",
            "_________________________________________________________________\n"
          ]
        }
      ]
    },
    {
      "cell_type": "code",
      "metadata": {
        "colab": {
          "base_uri": "https://localhost:8080/",
          "height": 95
        },
        "id": "1o94XxnYcgHW",
        "outputId": "48b9d898-ccab-4382-e39b-254470f38e81"
      },
      "source": [
        "# visualize the trained model\n",
        "tf.keras.utils.plot_model(model=models['one_hidden_layer'] , rankdir=\"LR\", dpi=72, show_shapes=True)"
      ],
      "execution_count": 25,
      "outputs": [
        {
          "output_type": "execute_result",
          "data": {
            "image/png": "[encoded data removed]",
            "text/plain": [
              "<IPython.core.display.Image object>"
            ]
          },
          "metadata": {},
          "execution_count": 25
        }
      ]
    },
    {
      "cell_type": "code",
      "metadata": {
        "colab": {
          "base_uri": "https://localhost:8080/"
        },
        "id": "U5zGc5Ie3UtK",
        "outputId": "0754b754-2c88-429c-e4f2-79f33ec31a95"
      },
      "source": [
        "# train a few other models\n",
        "\n",
        "# model with two layers\n",
        "compile_and_train_model(\n",
        "    name=\"two_hidden_layers\",\n",
        "    hidden_layers=[\n",
        "      layers.Dense(32, activation=\"relu\", name=\"layer1\"),\n",
        "      layers.Dense(16, activation='relu', name=\"layer2\"),\n",
        "    ],\n",
        "    loss=tf.losses.MeanAbsoluteError()\n",
        ")\n",
        "\n",
        "# model with two wide layers\n",
        "compile_and_train_model(\n",
        "    name=\"two_wide_hidden_layers\",\n",
        "    hidden_layers=[\n",
        "      layers.Dense(64, activation=\"relu\", name=\"layer1\"),\n",
        "      layers.Dense(64, activation='relu', name=\"layer2\"),\n",
        "    ],\n",
        "    loss=tf.losses.MeanAbsoluteError()\n",
        ")\n",
        "\n",
        "# model with three wide layers\n",
        "compile_and_train_model(\n",
        "    name=\"three_hidden_layers\",\n",
        "    hidden_layers=[\n",
        "      layers.Dense(128, activation=\"relu\", name=\"layer1\"),\n",
        "      layers.Dense(64, activation='relu', name=\"layer2\"),\n",
        "      layers.Dense(32, activation='relu', name=\"layer3\"),\n",
        "    ],\n",
        "    loss=tf.losses.MeanAbsoluteError()\n",
        ")"
      ],
      "execution_count": 26,
      "outputs": [
        {
          "output_type": "stream",
          "name": "stdout",
          "text": [
            "training model two_hidden_layers\n",
            "training model two_wide_hidden_layers\n",
            "training model three_hidden_layers\n"
          ]
        }
      ]
    },
    {
      "cell_type": "code",
      "metadata": {
        "colab": {
          "base_uri": "https://localhost:8080/",
          "height": 320
        },
        "id": "5fh-QGb2xNuM",
        "outputId": "2d255237-02bd-4123-8ed6-39d188f2f4de"
      },
      "source": [
        "# get all histories from this experiment\n",
        "layers_comparison = {\n",
        "    model_name: training_histories[model_name]\n",
        "    for model_name in ['one_hidden_layer','two_hidden_layers','two_wide_hidden_layers','three_hidden_layers']\n",
        "    }\n",
        "\n",
        "plot_loss_histories(layers_comparison)"
      ],
      "execution_count": 27,
      "outputs": [
        {
          "output_type": "display_data",
          "data": {
            "image/png": "[encoded data removed]",
            "text/plain": [
              "<Figure size 1800x360 with 4 Axes>"
            ]
          },
          "metadata": {
            "needs_background": "light"
          }
        }
      ]
    },
    {
      "cell_type": "code",
      "metadata": {
        "colab": {
          "base_uri": "https://localhost:8080/",
          "height": 359
        },
        "id": "bL95__q32PGD",
        "outputId": "3bbfe0f3-7fa3-437a-f110-abdb57783419"
      },
      "source": [
        "compare_model_metrics(layers_comparison)"
      ],
      "execution_count": 28,
      "outputs": [
        {
          "output_type": "execute_result",
          "data": {
            "text/html": [
              "<div>\n",
              "<style scoped>\n",
              "    .dataframe tbody tr th:only-of-type {\n",
              "        vertical-align: middle;\n",
              "    }\n",
              "\n",
              "    .dataframe tbody tr th {\n",
              "        vertical-align: top;\n",
              "    }\n",
              "\n",
              "    .dataframe thead th {\n",
              "        text-align: right;\n",
              "    }\n",
              "</style>\n",
              "<table border=\"1\" class=\"dataframe\">\n",
              "  <thead>\n",
              "    <tr style=\"text-align: right;\">\n",
              "      <th></th>\n",
              "      <th>one_hidden_layer</th>\n",
              "      <th>two_hidden_layers</th>\n",
              "      <th>two_wide_hidden_layers</th>\n",
              "      <th>three_hidden_layers</th>\n",
              "    </tr>\n",
              "  </thead>\n",
              "  <tbody>\n",
              "    <tr>\n",
              "      <th>loss</th>\n",
              "      <td>55.435</td>\n",
              "      <td>42.578</td>\n",
              "      <td>36.566</td>\n",
              "      <td>25.368</td>\n",
              "    </tr>\n",
              "    <tr>\n",
              "      <th>mean_absolute_error</th>\n",
              "      <td>55.443</td>\n",
              "      <td>42.520</td>\n",
              "      <td>36.628</td>\n",
              "      <td>25.303</td>\n",
              "    </tr>\n",
              "    <tr>\n",
              "      <th>mean_absolute_percentage_error</th>\n",
              "      <td>18.058</td>\n",
              "      <td>12.454</td>\n",
              "      <td>9.847</td>\n",
              "      <td>6.666</td>\n",
              "    </tr>\n",
              "    <tr>\n",
              "      <th>mean_squared_error</th>\n",
              "      <td>8517.735</td>\n",
              "      <td>5009.656</td>\n",
              "      <td>3550.198</td>\n",
              "      <td>2098.183</td>\n",
              "    </tr>\n",
              "    <tr>\n",
              "      <th>mean_squared_logarithmic_error</th>\n",
              "      <td>0.100</td>\n",
              "      <td>0.037</td>\n",
              "      <td>0.019</td>\n",
              "      <td>0.010</td>\n",
              "    </tr>\n",
              "    <tr>\n",
              "      <th>val_loss</th>\n",
              "      <td>57.035</td>\n",
              "      <td>46.057</td>\n",
              "      <td>42.623</td>\n",
              "      <td>40.083</td>\n",
              "    </tr>\n",
              "    <tr>\n",
              "      <th>val_mean_absolute_error</th>\n",
              "      <td>59.124</td>\n",
              "      <td>48.015</td>\n",
              "      <td>44.176</td>\n",
              "      <td>43.406</td>\n",
              "    </tr>\n",
              "    <tr>\n",
              "      <th>val_mean_absolute_percentage_error</th>\n",
              "      <td>15.554</td>\n",
              "      <td>12.841</td>\n",
              "      <td>11.610</td>\n",
              "      <td>10.722</td>\n",
              "    </tr>\n",
              "    <tr>\n",
              "      <th>val_mean_squared_error</th>\n",
              "      <td>9331.609</td>\n",
              "      <td>6308.297</td>\n",
              "      <td>5308.362</td>\n",
              "      <td>4706.478</td>\n",
              "    </tr>\n",
              "    <tr>\n",
              "      <th>val_mean_squared_logarithmic_error</th>\n",
              "      <td>0.106</td>\n",
              "      <td>0.075</td>\n",
              "      <td>0.052</td>\n",
              "      <td>0.031</td>\n",
              "    </tr>\n",
              "  </tbody>\n",
              "</table>\n",
              "</div>"
            ],
            "text/plain": [
              "                                    one_hidden_layer  ...  three_hidden_layers\n",
              "loss                                          55.435  ...               25.368\n",
              "mean_absolute_error                           55.443  ...               25.303\n",
              "mean_absolute_percentage_error                18.058  ...                6.666\n",
              "mean_squared_error                          8517.735  ...             2098.183\n",
              "mean_squared_logarithmic_error                 0.100  ...                0.010\n",
              "val_loss                                      57.035  ...               40.083\n",
              "val_mean_absolute_error                       59.124  ...               43.406\n",
              "val_mean_absolute_percentage_error            15.554  ...               10.722\n",
              "val_mean_squared_error                      9331.609  ...             4706.478\n",
              "val_mean_squared_logarithmic_error             0.106  ...                0.031\n",
              "\n",
              "[10 rows x 4 columns]"
            ]
          },
          "metadata": {},
          "execution_count": 28
        }
      ]
    },
    {
      "cell_type": "markdown",
      "metadata": {
        "id": "yCjfsK536zre"
      },
      "source": [
        "### Compare different loss functions"
      ]
    },
    {
      "cell_type": "code",
      "metadata": {
        "colab": {
          "base_uri": "https://localhost:8080/"
        },
        "id": "9uNYZYN262-L",
        "outputId": "7991c693-4f47-4312-e763-adeaa90b1eca"
      },
      "source": [
        "# train a few models with different loss functions\n",
        "\n",
        "compile_and_train_model(\n",
        "    name=\"mean_absolute_error\",\n",
        "    hidden_layers=[\n",
        "      layers.Dense(32, activation=\"relu\", name=\"layer1\"),\n",
        "      layers.Dense(16, activation='relu', name=\"layer2\"),\n",
        "    ],\n",
        "    loss=tf.losses.MeanAbsoluteError()\n",
        ")\n",
        "\n",
        "compile_and_train_model(\n",
        "    name=\"mean_absolute_percentage_error\",\n",
        "    hidden_layers=[\n",
        "      layers.Dense(32, activation=\"relu\", name=\"layer1\"),\n",
        "      layers.Dense(16, activation='relu', name=\"layer2\"),\n",
        "    ],\n",
        "    loss=tf.losses.MeanAbsolutePercentageError()\n",
        ")\n",
        "\n",
        "compile_and_train_model(\n",
        "    name=\"mean_squared_error\",\n",
        "    hidden_layers=[\n",
        "      layers.Dense(32, activation=\"relu\", name=\"layer1\"),\n",
        "      layers.Dense(16, activation='relu', name=\"layer2\"),\n",
        "    ],\n",
        "    loss=tf.losses.MeanSquaredError()\n",
        ")\n",
        "\n",
        "compile_and_train_model(\n",
        "    name=\"mean_squared_logarithmic_error\",\n",
        "    hidden_layers=[\n",
        "      layers.Dense(32, activation=\"relu\", name=\"layer1\"),\n",
        "      layers.Dense(16, activation='relu', name=\"layer2\"),\n",
        "    ],\n",
        "    loss=tf.losses.MeanSquaredLogarithmicError()\n",
        ")"
      ],
      "execution_count": 29,
      "outputs": [
        {
          "output_type": "stream",
          "name": "stdout",
          "text": [
            "training model mean_absolute_error\n",
            "training model mean_absolute_percentage_error\n",
            "training model mean_squared_error\n",
            "training model mean_squared_logarithmic_error\n"
          ]
        }
      ]
    },
    {
      "cell_type": "code",
      "metadata": {
        "colab": {
          "base_uri": "https://localhost:8080/",
          "height": 309
        },
        "id": "YIYv34sp4kZe",
        "outputId": "e4d34560-a4a5-4a1b-c6d3-8885a676d54d"
      },
      "source": [
        "# get all histories from this experiment\n",
        "loss_comparison = {\n",
        "    model_name: training_histories[model_name]\n",
        "    for model_name in ['mean_absolute_error','mean_absolute_percentage_error','mean_squared_error','mean_squared_logarithmic_error']\n",
        "    }\n",
        "\n",
        "plot_loss_histories(loss_comparison)"
      ],
      "execution_count": 30,
      "outputs": [
        {
          "output_type": "display_data",
          "data": {
            "image/png": "[encoded data removed]",
            "text/plain": [
              "<Figure size 1800x360 with 4 Axes>"
            ]
          },
          "metadata": {
            "needs_background": "light"
          }
        }
      ]
    },
    {
      "cell_type": "code",
      "metadata": {
        "colab": {
          "base_uri": "https://localhost:8080/",
          "height": 359
        },
        "id": "cfmYYTRq-M13",
        "outputId": "3a17412f-2cfc-4ba2-ca27-8990fad17faa"
      },
      "source": [
        "compare_model_metrics(loss_comparison)"
      ],
      "execution_count": 31,
      "outputs": [
        {
          "output_type": "execute_result",
          "data": {
            "text/html": [
              "<div>\n",
              "<style scoped>\n",
              "    .dataframe tbody tr th:only-of-type {\n",
              "        vertical-align: middle;\n",
              "    }\n",
              "\n",
              "    .dataframe tbody tr th {\n",
              "        vertical-align: top;\n",
              "    }\n",
              "\n",
              "    .dataframe thead th {\n",
              "        text-align: right;\n",
              "    }\n",
              "</style>\n",
              "<table border=\"1\" class=\"dataframe\">\n",
              "  <thead>\n",
              "    <tr style=\"text-align: right;\">\n",
              "      <th></th>\n",
              "      <th>mean_absolute_error</th>\n",
              "      <th>mean_absolute_percentage_error</th>\n",
              "      <th>mean_squared_error</th>\n",
              "      <th>mean_squared_logarithmic_error</th>\n",
              "    </tr>\n",
              "  </thead>\n",
              "  <tbody>\n",
              "    <tr>\n",
              "      <th>loss</th>\n",
              "      <td>43.736</td>\n",
              "      <td>12.634</td>\n",
              "      <td>4838.106</td>\n",
              "      <td>0.094</td>\n",
              "    </tr>\n",
              "    <tr>\n",
              "      <th>mean_absolute_error</th>\n",
              "      <td>43.833</td>\n",
              "      <td>54.171</td>\n",
              "      <td>46.110</td>\n",
              "      <td>90.706</td>\n",
              "    </tr>\n",
              "    <tr>\n",
              "      <th>mean_absolute_percentage_error</th>\n",
              "      <td>13.500</td>\n",
              "      <td>12.633</td>\n",
              "      <td>15.022</td>\n",
              "      <td>24.227</td>\n",
              "    </tr>\n",
              "    <tr>\n",
              "      <th>mean_squared_error</th>\n",
              "      <td>5157.344</td>\n",
              "      <td>9243.053</td>\n",
              "      <td>4826.667</td>\n",
              "      <td>21702.051</td>\n",
              "    </tr>\n",
              "    <tr>\n",
              "      <th>mean_squared_logarithmic_error</th>\n",
              "      <td>0.039</td>\n",
              "      <td>0.038</td>\n",
              "      <td>0.042</td>\n",
              "      <td>0.094</td>\n",
              "    </tr>\n",
              "    <tr>\n",
              "      <th>val_loss</th>\n",
              "      <td>47.392</td>\n",
              "      <td>13.957</td>\n",
              "      <td>5712.267</td>\n",
              "      <td>0.128</td>\n",
              "    </tr>\n",
              "    <tr>\n",
              "      <th>val_mean_absolute_error</th>\n",
              "      <td>49.089</td>\n",
              "      <td>59.537</td>\n",
              "      <td>50.050</td>\n",
              "      <td>92.849</td>\n",
              "    </tr>\n",
              "    <tr>\n",
              "      <th>val_mean_absolute_percentage_error</th>\n",
              "      <td>13.069</td>\n",
              "      <td>14.151</td>\n",
              "      <td>14.390</td>\n",
              "      <td>22.559</td>\n",
              "    </tr>\n",
              "    <tr>\n",
              "      <th>val_mean_squared_error</th>\n",
              "      <td>6523.564</td>\n",
              "      <td>9223.316</td>\n",
              "      <td>6653.535</td>\n",
              "      <td>18629.227</td>\n",
              "    </tr>\n",
              "    <tr>\n",
              "      <th>val_mean_squared_logarithmic_error</th>\n",
              "      <td>0.078</td>\n",
              "      <td>0.086</td>\n",
              "      <td>0.075</td>\n",
              "      <td>0.139</td>\n",
              "    </tr>\n",
              "  </tbody>\n",
              "</table>\n",
              "</div>"
            ],
            "text/plain": [
              "                                    mean_absolute_error  ...  mean_squared_logarithmic_error\n",
              "loss                                             43.736  ...                           0.094\n",
              "mean_absolute_error                              43.833  ...                          90.706\n",
              "mean_absolute_percentage_error                   13.500  ...                          24.227\n",
              "mean_squared_error                             5157.344  ...                       21702.051\n",
              "mean_squared_logarithmic_error                    0.039  ...                           0.094\n",
              "val_loss                                         47.392  ...                           0.128\n",
              "val_mean_absolute_error                          49.089  ...                          92.849\n",
              "val_mean_absolute_percentage_error               13.069  ...                          22.559\n",
              "val_mean_squared_error                         6523.564  ...                       18629.227\n",
              "val_mean_squared_logarithmic_error                0.078  ...                           0.139\n",
              "\n",
              "[10 rows x 4 columns]"
            ]
          },
          "metadata": {},
          "execution_count": 31
        }
      ]
    },
    {
      "cell_type": "markdown",
      "metadata": {
        "id": "QrvePCCNy3Xk"
      },
      "source": [
        "## Model Performance"
      ]
    },
    {
      "cell_type": "markdown",
      "metadata": {
        "id": "O_0Ljb-Zzf2P"
      },
      "source": [
        "As we have seen in the previous experiments, a network with two decently sized hidden layers using the mean absolute error as its loss function provided the best and most stable learning results.\n",
        "Use this model (`two_hidden_layers`) for evaluating performance on the test data."
      ]
    },
    {
      "cell_type": "code",
      "metadata": {
        "id": "VvML9NHiK653"
      },
      "source": [
        "model = models['two_hidden_layers']"
      ],
      "execution_count": 32,
      "outputs": []
    },
    {
      "cell_type": "code",
      "metadata": {
        "id": "gmwOfVtBxSwD"
      },
      "source": [
        "# predict target (Hm) for all test data with the trained model\n",
        "test_predictions = model.predict(test_features).flatten()"
      ],
      "execution_count": 33,
      "outputs": []
    },
    {
      "cell_type": "code",
      "metadata": {
        "colab": {
          "base_uri": "https://localhost:8080/",
          "height": 204
        },
        "id": "4fkMDnbRM3Br",
        "outputId": "8744c896-d3b4-4abc-c03d-bbd5c3384d3c"
      },
      "source": [
        "# get metrics (MAE, MSE, etc.) for predictions on test data\n",
        "test_metrics = model.evaluate(test_features, test_labels, verbose=0)\n",
        "pd.DataFrame(test_metrics, index=model.metrics_names, columns=[model.name])"
      ],
      "execution_count": 34,
      "outputs": [
        {
          "output_type": "execute_result",
          "data": {
            "text/html": [
              "<div>\n",
              "<style scoped>\n",
              "    .dataframe tbody tr th:only-of-type {\n",
              "        vertical-align: middle;\n",
              "    }\n",
              "\n",
              "    .dataframe tbody tr th {\n",
              "        vertical-align: top;\n",
              "    }\n",
              "\n",
              "    .dataframe thead th {\n",
              "        text-align: right;\n",
              "    }\n",
              "</style>\n",
              "<table border=\"1\" class=\"dataframe\">\n",
              "  <thead>\n",
              "    <tr style=\"text-align: right;\">\n",
              "      <th></th>\n",
              "      <th>two_hidden_layers</th>\n",
              "    </tr>\n",
              "  </thead>\n",
              "  <tbody>\n",
              "    <tr>\n",
              "      <th>loss</th>\n",
              "      <td>376.663</td>\n",
              "    </tr>\n",
              "    <tr>\n",
              "      <th>mean_absolute_error</th>\n",
              "      <td>339.049</td>\n",
              "    </tr>\n",
              "    <tr>\n",
              "      <th>mean_absolute_percentage_error</th>\n",
              "      <td>78.832</td>\n",
              "    </tr>\n",
              "    <tr>\n",
              "      <th>mean_squared_error</th>\n",
              "      <td>2254624.500</td>\n",
              "    </tr>\n",
              "    <tr>\n",
              "      <th>mean_squared_logarithmic_error</th>\n",
              "      <td>0.357</td>\n",
              "    </tr>\n",
              "  </tbody>\n",
              "</table>\n",
              "</div>"
            ],
            "text/plain": [
              "                                two_hidden_layers\n",
              "loss                                      376.663\n",
              "mean_absolute_error                       339.049\n",
              "mean_absolute_percentage_error             78.832\n",
              "mean_squared_error                    2254624.500\n",
              "mean_squared_logarithmic_error              0.357"
            ]
          },
          "metadata": {},
          "execution_count": 34
        }
      ]
    },
    {
      "cell_type": "markdown",
      "metadata": {
        "id": "zf8OUm0Xl6xB"
      },
      "source": [
        "### Analyze raw test predictions"
      ]
    },
    {
      "cell_type": "code",
      "metadata": {
        "execution": {
          "iopub.execute_input": "2021-06-19T02:12:21.584513Z",
          "iopub.status.busy": "2021-06-19T02:12:21.581281Z",
          "iopub.status.idle": "2021-06-19T02:12:21.697549Z",
          "shell.execute_reply": "2021-06-19T02:12:21.697922Z"
        },
        "id": "f-OHX4DiXd8x"
      },
      "source": [
        "# store raw prediction results for plotting\n",
        "raw_predictions = {\"raw test predictions\": {\"predictions\": test_predictions, \"labels\": test_labels}}\n",
        "\n",
        "# prepare some helper functions for displaying and plotting statistics of test results\n",
        "\n",
        "def table_stats_absolute_error(predictions, labels):\n",
        "  return pd.DataFrame(abs(predictions - labels)).describe(percentiles=[0.5,0.9,0.95]).transpose()\n",
        "\n",
        "def table_stats_relative_error(predictions, labels):\n",
        "  return pd.DataFrame(abs(predictions - labels) / labels).describe(percentiles=[0.5,0.9,0.95]).transpose()\n",
        "\n",
        "def plot_scatter_relative_error(prediction_pairs):\n",
        "  plt.figure(figsize=(10, 5))\n",
        "  i = 0\n",
        "  for key, pair in prediction_pairs.items():\n",
        "    i = i+1\n",
        "    predictions = pair[\"predictions\"]\n",
        "    labels = pair[\"labels\"]\n",
        "    error = abs((predictions - labels) / labels)\n",
        "    plt.subplot(1, len(prediction_pairs), i)\n",
        "    plt.scatter(labels, error)\n",
        "    plt.title(key)\n",
        "    plt.xlabel('Test Values [Hm]')\n",
        "    plt.ylabel('Relative Prediction Error')\n",
        "\n",
        "def plot_hist_absolute_error(prediction_pairs):\n",
        "  plt.figure(figsize=(10, 5))\n",
        "  i = 0\n",
        "  for key, pair in prediction_pairs.items():\n",
        "    i = i+1\n",
        "    predictions = pair[\"predictions\"]\n",
        "    labels = pair[\"labels\"]\n",
        "    error = abs(predictions - labels)\n",
        "    plt.subplot(1, len(prediction_pairs), i)\n",
        "    plt.hist(error, bins=25)\n",
        "    plt.title(key)\n",
        "    plt.xlabel('Absolute Prediction Error [Hm]')\n",
        "    plt.ylabel('Count')\n",
        "\n",
        "def plot_hist_relative_error(prediction_pairs):\n",
        "  plt.figure(figsize=(10, 5))\n",
        "  i = 0\n",
        "  for key, pair in prediction_pairs.items():\n",
        "    i = i+1\n",
        "    predictions = pair[\"predictions\"]\n",
        "    labels = pair[\"labels\"]\n",
        "    error = abs(predictions - labels) / labels\n",
        "    plt.subplot(1, len(prediction_pairs), i)\n",
        "    plt.hist(error, bins=25)\n",
        "    plt.title(key)\n",
        "    plt.xlabel('Relative Prediction Error [Hm]')\n",
        "    plt.ylabel('Count')"
      ],
      "execution_count": 35,
      "outputs": []
    },
    {
      "cell_type": "code",
      "metadata": {
        "colab": {
          "base_uri": "https://localhost:8080/",
          "height": 80
        },
        "id": "Dp1YzydKTkYV",
        "outputId": "4cf7c71c-532d-4870-98e3-404c49e10ebc"
      },
      "source": [
        "table_stats_absolute_error(test_predictions, test_labels)"
      ],
      "execution_count": 36,
      "outputs": [
        {
          "output_type": "execute_result",
          "data": {
            "text/html": [
              "<div>\n",
              "<style scoped>\n",
              "    .dataframe tbody tr th:only-of-type {\n",
              "        vertical-align: middle;\n",
              "    }\n",
              "\n",
              "    .dataframe tbody tr th {\n",
              "        vertical-align: top;\n",
              "    }\n",
              "\n",
              "    .dataframe thead th {\n",
              "        text-align: right;\n",
              "    }\n",
              "</style>\n",
              "<table border=\"1\" class=\"dataframe\">\n",
              "  <thead>\n",
              "    <tr style=\"text-align: right;\">\n",
              "      <th></th>\n",
              "      <th>count</th>\n",
              "      <th>mean</th>\n",
              "      <th>std</th>\n",
              "      <th>min</th>\n",
              "      <th>50%</th>\n",
              "      <th>90%</th>\n",
              "      <th>95%</th>\n",
              "      <th>max</th>\n",
              "    </tr>\n",
              "  </thead>\n",
              "  <tbody>\n",
              "    <tr>\n",
              "      <th>Hm</th>\n",
              "      <td>113.000</td>\n",
              "      <td>376.663</td>\n",
              "      <td>1559.547</td>\n",
              "      <td>0.242</td>\n",
              "      <td>30.795</td>\n",
              "      <td>313.915</td>\n",
              "      <td>1149.059</td>\n",
              "      <td>10596.280</td>\n",
              "    </tr>\n",
              "  </tbody>\n",
              "</table>\n",
              "</div>"
            ],
            "text/plain": [
              "     count    mean      std   min    50%     90%      95%       max\n",
              "Hm 113.000 376.663 1559.547 0.242 30.795 313.915 1149.059 10596.280"
            ]
          },
          "metadata": {},
          "execution_count": 36
        }
      ]
    },
    {
      "cell_type": "code",
      "metadata": {
        "colab": {
          "base_uri": "https://localhost:8080/",
          "height": 80
        },
        "id": "oZAk2_nOPfsJ",
        "outputId": "85b450f7-1178-41b2-f00e-c906eb375785"
      },
      "source": [
        "table_stats_relative_error(test_predictions, test_labels)"
      ],
      "execution_count": 37,
      "outputs": [
        {
          "output_type": "execute_result",
          "data": {
            "text/html": [
              "<div>\n",
              "<style scoped>\n",
              "    .dataframe tbody tr th:only-of-type {\n",
              "        vertical-align: middle;\n",
              "    }\n",
              "\n",
              "    .dataframe tbody tr th {\n",
              "        vertical-align: top;\n",
              "    }\n",
              "\n",
              "    .dataframe thead th {\n",
              "        text-align: right;\n",
              "    }\n",
              "</style>\n",
              "<table border=\"1\" class=\"dataframe\">\n",
              "  <thead>\n",
              "    <tr style=\"text-align: right;\">\n",
              "      <th></th>\n",
              "      <th>count</th>\n",
              "      <th>mean</th>\n",
              "      <th>std</th>\n",
              "      <th>min</th>\n",
              "      <th>50%</th>\n",
              "      <th>90%</th>\n",
              "      <th>95%</th>\n",
              "      <th>max</th>\n",
              "    </tr>\n",
              "  </thead>\n",
              "  <tbody>\n",
              "    <tr>\n",
              "      <th>Hm</th>\n",
              "      <td>113.000</td>\n",
              "      <td>0.856</td>\n",
              "      <td>3.442</td>\n",
              "      <td>0.001</td>\n",
              "      <td>0.108</td>\n",
              "      <td>0.362</td>\n",
              "      <td>2.755</td>\n",
              "      <td>23.542</td>\n",
              "    </tr>\n",
              "  </tbody>\n",
              "</table>\n",
              "</div>"
            ],
            "text/plain": [
              "     count  mean   std   min   50%   90%   95%    max\n",
              "Hm 113.000 0.856 3.442 0.001 0.108 0.362 2.755 23.542"
            ]
          },
          "metadata": {},
          "execution_count": 37
        }
      ]
    },
    {
      "cell_type": "code",
      "metadata": {
        "colab": {
          "base_uri": "https://localhost:8080/",
          "height": 350
        },
        "id": "WdxHuXzFlsZB",
        "outputId": "3c9c5277-c671-424d-d4c2-620d02fd89ba"
      },
      "source": [
        "plot_scatter_relative_error(raw_predictions)"
      ],
      "execution_count": 38,
      "outputs": [
        {
          "output_type": "display_data",
          "data": {
            "image/png": "[encoded data removed]",
            "text/plain": [
              "<Figure size 720x360 with 1 Axes>"
            ]
          },
          "metadata": {
            "needs_background": "light"
          }
        }
      ]
    },
    {
      "cell_type": "markdown",
      "metadata": {
        "id": "jMF0ZTHhl26e"
      },
      "source": [
        "### Filtered test results\n",
        "\n",
        "The above statistics and scatter plot reveal that there are only a few predictions with particularly high errors. However, the majority of predicitions has a comparatively low error. These outliers distort the statistics, as the arithmetic mean is sensitive to outliers.\n",
        "\n",
        "Hence, drop 10% of predictions with the highest relative errors and only analyze the statistics of the other 90%."
      ]
    },
    {
      "cell_type": "code",
      "metadata": {
        "colab": {
          "base_uri": "https://localhost:8080/"
        },
        "id": "g55vVoUgRLWo",
        "outputId": "d409e22e-ecfd-4b66-b606-c53d552827be"
      },
      "source": [
        "p90 = np.quantile(abs(test_predictions - test_labels) / test_labels, 0.9)\n",
        "\n",
        "# identify 10% predictions with highest errors\n",
        "outlier_indices = []\n",
        "for i, row in enumerate(test_predictions):\n",
        "  error = abs(row - test_labels.iloc[i]) / test_labels.iloc[i]\n",
        "  if error > p90:\n",
        "    print(\"dropping test result with absolute error of {}\".format(error))\n",
        "    outlier_indices.append(i)\n",
        "\n",
        "# drop outliers in predictions (and labels)\n",
        "test_predictions_filtered = np.copy(test_predictions)\n",
        "test_labels_filtered = np.copy(test_labels)\n",
        "test_predictions_filtered = np.delete(test_predictions_filtered, outlier_indices, 0)\n",
        "test_labels_filtered = np.delete(test_labels_filtered, outlier_indices, 0)\n",
        "\n",
        "# store all prediction results together in one dict for \n",
        "all_predictions = {\"raw test predictions\": {\"predictions\": test_predictions, \"labels\": test_labels},\n",
        "                   \"top 90% predictions\": {\"predictions\": test_predictions_filtered, \"labels\": test_labels_filtered}}"
      ],
      "execution_count": 39,
      "outputs": [
        {
          "output_type": "stream",
          "name": "stdout",
          "text": [
            "dropping test result with absolute error of 0.3669427075541452\n",
            "dropping test result with absolute error of 0.4528102438563863\n",
            "dropping test result with absolute error of 1.0066105262444585\n",
            "dropping test result with absolute error of 12.560786963978781\n",
            "dropping test result with absolute error of 18.384899336038178\n",
            "dropping test result with absolute error of 2.818394492163071\n",
            "dropping test result with absolute error of 1.2888765970865885\n",
            "dropping test result with absolute error of 23.54243550585622\n",
            "dropping test result with absolute error of 18.133978175708812\n",
            "dropping test result with absolute error of 0.4737059744785962\n",
            "dropping test result with absolute error of 3.1884532864418222\n",
            "dropping test result with absolute error of 2.713060432558046\n"
          ]
        }
      ]
    },
    {
      "cell_type": "markdown",
      "metadata": {
        "id": "GkKm463uqqoL"
      },
      "source": [
        "Display the filtered test result statistics:\n"
      ]
    },
    {
      "cell_type": "code",
      "metadata": {
        "colab": {
          "base_uri": "https://localhost:8080/",
          "height": 80
        },
        "id": "Ukb5KfwsQPql",
        "outputId": "b4c755ce-c1b7-417f-9900-c8b7c271ca9e"
      },
      "source": [
        "table_stats_absolute_error(test_predictions_filtered, test_labels_filtered)"
      ],
      "execution_count": 40,
      "outputs": [
        {
          "output_type": "execute_result",
          "data": {
            "text/html": [
              "<div>\n",
              "<style scoped>\n",
              "    .dataframe tbody tr th:only-of-type {\n",
              "        vertical-align: middle;\n",
              "    }\n",
              "\n",
              "    .dataframe tbody tr th {\n",
              "        vertical-align: top;\n",
              "    }\n",
              "\n",
              "    .dataframe thead th {\n",
              "        text-align: right;\n",
              "    }\n",
              "</style>\n",
              "<table border=\"1\" class=\"dataframe\">\n",
              "  <thead>\n",
              "    <tr style=\"text-align: right;\">\n",
              "      <th></th>\n",
              "      <th>count</th>\n",
              "      <th>mean</th>\n",
              "      <th>std</th>\n",
              "      <th>min</th>\n",
              "      <th>50%</th>\n",
              "      <th>90%</th>\n",
              "      <th>95%</th>\n",
              "      <th>max</th>\n",
              "    </tr>\n",
              "  </thead>\n",
              "  <tbody>\n",
              "    <tr>\n",
              "      <th>0</th>\n",
              "      <td>101.000</td>\n",
              "      <td>47.590</td>\n",
              "      <td>75.435</td>\n",
              "      <td>0.242</td>\n",
              "      <td>27.239</td>\n",
              "      <td>88.000</td>\n",
              "      <td>118.391</td>\n",
              "      <td>540.317</td>\n",
              "    </tr>\n",
              "  </tbody>\n",
              "</table>\n",
              "</div>"
            ],
            "text/plain": [
              "    count   mean    std   min    50%    90%     95%     max\n",
              "0 101.000 47.590 75.435 0.242 27.239 88.000 118.391 540.317"
            ]
          },
          "metadata": {},
          "execution_count": 40
        }
      ]
    },
    {
      "cell_type": "code",
      "metadata": {
        "colab": {
          "base_uri": "https://localhost:8080/",
          "height": 80
        },
        "id": "0VdL6UbLUtwY",
        "outputId": "9ab6c089-4241-46cd-8cfb-4a790169cfde"
      },
      "source": [
        "table_stats_relative_error(test_predictions_filtered, test_labels_filtered)"
      ],
      "execution_count": 41,
      "outputs": [
        {
          "output_type": "execute_result",
          "data": {
            "text/html": [
              "<div>\n",
              "<style scoped>\n",
              "    .dataframe tbody tr th:only-of-type {\n",
              "        vertical-align: middle;\n",
              "    }\n",
              "\n",
              "    .dataframe tbody tr th {\n",
              "        vertical-align: top;\n",
              "    }\n",
              "\n",
              "    .dataframe thead th {\n",
              "        text-align: right;\n",
              "    }\n",
              "</style>\n",
              "<table border=\"1\" class=\"dataframe\">\n",
              "  <thead>\n",
              "    <tr style=\"text-align: right;\">\n",
              "      <th></th>\n",
              "      <th>count</th>\n",
              "      <th>mean</th>\n",
              "      <th>std</th>\n",
              "      <th>min</th>\n",
              "      <th>50%</th>\n",
              "      <th>90%</th>\n",
              "      <th>95%</th>\n",
              "      <th>max</th>\n",
              "    </tr>\n",
              "  </thead>\n",
              "  <tbody>\n",
              "    <tr>\n",
              "      <th>0</th>\n",
              "      <td>101.000</td>\n",
              "      <td>0.117</td>\n",
              "      <td>0.087</td>\n",
              "      <td>0.001</td>\n",
              "      <td>0.102</td>\n",
              "      <td>0.245</td>\n",
              "      <td>0.285</td>\n",
              "      <td>0.340</td>\n",
              "    </tr>\n",
              "  </tbody>\n",
              "</table>\n",
              "</div>"
            ],
            "text/plain": [
              "    count  mean   std   min   50%   90%   95%   max\n",
              "0 101.000 0.117 0.087 0.001 0.102 0.245 0.285 0.340"
            ]
          },
          "metadata": {},
          "execution_count": 41
        }
      ]
    },
    {
      "cell_type": "markdown",
      "metadata": {
        "id": "1C2IxYYgqwm9"
      },
      "source": [
        "Compare raw test results with filtered test results in plots:"
      ]
    },
    {
      "cell_type": "code",
      "metadata": {
        "colab": {
          "base_uri": "https://localhost:8080/",
          "height": 350
        },
        "id": "B9j9NyPhkjd2",
        "outputId": "5506d4b9-3d65-4141-b9f3-c50042b3df0c"
      },
      "source": [
        "plot_scatter_relative_error(all_predictions)"
      ],
      "execution_count": 42,
      "outputs": [
        {
          "output_type": "display_data",
          "data": {
            "image/png": "[encoded data removed]",
            "text/plain": [
              "<Figure size 720x360 with 2 Axes>"
            ]
          },
          "metadata": {
            "needs_background": "light"
          }
        }
      ]
    },
    {
      "cell_type": "code",
      "metadata": {
        "colab": {
          "base_uri": "https://localhost:8080/",
          "height": 350
        },
        "id": "GDBAa1UaWckq",
        "outputId": "f089d8b2-6c53-454c-dd8e-edf88c44e048"
      },
      "source": [
        "plot_hist_absolute_error(all_predictions)"
      ],
      "execution_count": 43,
      "outputs": [
        {
          "output_type": "display_data",
          "data": {
            "image/png": "[encoded data removed]",
            "text/plain": [
              "<Figure size 720x360 with 2 Axes>"
            ]
          },
          "metadata": {
            "needs_background": "light"
          }
        }
      ]
    },
    {
      "cell_type": "code",
      "metadata": {
        "colab": {
          "base_uri": "https://localhost:8080/",
          "height": 350
        },
        "id": "rj1R6wEvWlbJ",
        "outputId": "1b056c54-ca1b-4908-ad1d-abc491a890f5"
      },
      "source": [
        "plot_hist_relative_error(all_predictions)"
      ],
      "execution_count": 44,
      "outputs": [
        {
          "output_type": "display_data",
          "data": {
            "image/png": "[encoded data removed]",
            "text/plain": [
              "<Figure size 720x360 with 2 Axes>"
            ]
          },
          "metadata": {
            "needs_background": "light"
          }
        }
      ]
    },
    {
      "cell_type": "code",
      "metadata": {
        "id": "VvtLGc2wpxBN"
      },
      "source": [
        ""
      ],
      "execution_count": 44,
      "outputs": []
    }
  ]
}